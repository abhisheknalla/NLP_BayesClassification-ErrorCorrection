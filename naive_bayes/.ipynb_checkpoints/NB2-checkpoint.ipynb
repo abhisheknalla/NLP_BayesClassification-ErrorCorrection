{
 "cells": [
  {
   "cell_type": "code",
   "execution_count": 1,
   "metadata": {
    "collapsed": true
   },
   "outputs": [],
   "source": [
    "from nltk.corpus import movie_reviews"
   ]
  },
  {
   "cell_type": "code",
   "execution_count": 2,
   "metadata": {},
   "outputs": [],
   "source": [
    "import nltk"
   ]
  },
  {
   "cell_type": "code",
   "execution_count": 5,
   "metadata": {},
   "outputs": [
    {
     "name": "stdout",
     "output_type": "stream",
     "text": [
      "2000\n"
     ]
    }
   ],
   "source": [
    "documents = [(list(movie_reviews.words(fileid)), category)\n",
    "              for category in movie_reviews.categories()\n",
    "              for fileid in movie_reviews.fileids(category)[:1000]]\n",
    "\n",
    "print(len(documents))"
   ]
  },
  {
   "cell_type": "code",
   "execution_count": 11,
   "metadata": {},
   "outputs": [],
   "source": [
    "import random\n",
    "random.shuffle(documents)\n",
    "pos_docs = [ (nltk.pos_tag(document), category) for document,category in documents[:100]] "
   ]
  },
  {
   "cell_type": "code",
   "execution_count": 21,
   "metadata": {},
   "outputs": [],
   "source": [
    "data_set = [ ([w for w in document if w[1] in ['JJ', 'RB']], category) for document, category in pos_docs]"
   ]
  },
  {
   "cell_type": "code",
   "execution_count": 22,
   "metadata": {},
   "outputs": [
    {
     "data": {
      "text/plain": [
       "([('currently', 'RB'),\n",
       "  ('_the', 'JJ'),\n",
       "  ('julia', 'JJ'),\n",
       "  ('_never', 'RB'),\n",
       "  ('s', 'JJ'),\n",
       "  ('future', 'JJ'),\n",
       "  ('db', 'JJ'),\n",
       "  ('nc', 'JJ'),\n",
       "  ('aw', 'JJ'),\n",
       "  ('ll', 'JJ'),\n",
       "  ('teen', 'JJ'),\n",
       "  ('main', 'JJ'),\n",
       "  ('t', 'JJ'),\n",
       "  ('big', 'JJ'),\n",
       "  ('only', 'RB'),\n",
       "  ('s', 'JJ'),\n",
       "  ('very', 'RB'),\n",
       "  ('clear', 'JJ'),\n",
       "  ('pushy', 'JJ'),\n",
       "  ('s', 'JJ'),\n",
       "  ('not', 'RB'),\n",
       "  ('really', 'RB'),\n",
       "  ('high', 'JJ'),\n",
       "  ('s', 'JJ'),\n",
       "  ('really', 'RB'),\n",
       "  ('s', 'JJ'),\n",
       "  ('such', 'JJ'),\n",
       "  ('first', 'JJ'),\n",
       "  ('around', 'RB'),\n",
       "  ('back', 'RB'),\n",
       "  ('wrong', 'JJ'),\n",
       "  ('wrong', 'JJ'),\n",
       "  ('popular', 'JJ'),\n",
       "  ('popular', 'JJ'),\n",
       "  ('nerdy', 'JJ'),\n",
       "  ('s', 'JJ'),\n",
       "  ('beautiful', 'JJ'),\n",
       "  ('beautiful', 'JJ'),\n",
       "  ('s', 'JJ'),\n",
       "  ('old', 'JJ'),\n",
       "  ('headline', 'JJ'),\n",
       "  ('sluttish', 'JJ'),\n",
       "  ('bad', 'JJ'),\n",
       "  ('big', 'JJ'),\n",
       "  ('s', 'JJ'),\n",
       "  ('very', 'RB'),\n",
       "  ('funny', 'JJ'),\n",
       "  ('t', 'JJ'),\n",
       "  ('s', 'JJ'),\n",
       "  ('new', 'JJ'),\n",
       "  ('as', 'RB'),\n",
       "  ('bad', 'JJ'),\n",
       "  ('t', 'JJ'),\n",
       "  ('just', 'RB'),\n",
       "  ('s', 'JJ'),\n",
       "  ('david', 'JJ'),\n",
       "  ('now', 'RB'),\n",
       "  ('nerdy', 'JJ'),\n",
       "  ('funny', 'JJ'),\n",
       "  ('popular', 'JJ'),\n",
       "  ('well', 'RB'),\n",
       "  ('co', 'JJ'),\n",
       "  ('molly', 'RB'),\n",
       "  ('john', 'JJ'),\n",
       "  ('reilly', 'RB'),\n",
       "  ('gary', 'JJ'),\n",
       "  ('terminal', 'JJ'),\n",
       "  ('so', 'RB'),\n",
       "  ('inept', 'JJ'),\n",
       "  ('stupid', 'JJ'),\n",
       "  ('s', 'JJ'),\n",
       "  ('little', 'JJ'),\n",
       "  ('first', 'JJ'),\n",
       "  ('lastly', 'RB'),\n",
       "  ('i', 'JJ'),\n",
       "  ('proud', 'JJ'),\n",
       "  ('i', 'JJ'),\n",
       "  ('significant', 'JJ'),\n",
       "  ('delicious', 'JJ'),\n",
       "  ('um', 'JJ'),\n",
       "  ('wild', 'JJ'),\n",
       "  ('late', 'JJ'),\n",
       "  ('stamped', 'JJ'),\n",
       "  ('s', 'JJ'),\n",
       "  ('funny', 'JJ'),\n",
       "  ('eh', 'RB')],\n",
       " 'neg')"
      ]
     },
     "execution_count": 22,
     "metadata": {},
     "output_type": "execute_result"
    }
   ],
   "source": [
    "word_vs_class = {'neg' : {}, 'pos': {}}\n",
    "for document, category in data_set:\n",
    "    for word, tag in document:\n",
    "        if word not in word_vs_class[category]:\n",
    "            word_vs_class[category][word] = 0\n",
    "        word_vs_class[category][word] += 1\n",
    "word_vs_class"
   ]
  },
  {
   "cell_type": "code",
   "execution_count": null,
   "metadata": {
    "collapsed": true
   },
   "outputs": [],
   "source": []
  }
 ],
 "metadata": {
  "kernelspec": {
   "display_name": "Python 3",
   "language": "python",
   "name": "python3"
  },
  "language_info": {
   "codemirror_mode": {
    "name": "ipython",
    "version": 3
   },
   "file_extension": ".py",
   "mimetype": "text/x-python",
   "name": "python",
   "nbconvert_exporter": "python",
   "pygments_lexer": "ipython3",
   "version": "3.4.3"
  }
 },
 "nbformat": 4,
 "nbformat_minor": 2
}
